{
 "cells": [
  {
   "cell_type": "code",
   "execution_count": 4,
   "metadata": {
    "collapsed": false
   },
   "outputs": [
    {
     "name": "stdout",
     "output_type": "stream",
     "text": [
      "Populating the interactive namespace from numpy and matplotlib\n"
     ]
    }
   ],
   "source": [
    "%pylab inline"
   ]
  },
  {
   "cell_type": "code",
   "execution_count": 7,
   "metadata": {
    "collapsed": false
   },
   "outputs": [
    {
     "name": "stdout",
     "output_type": "stream",
     "text": [
      "... loading data\n",
      "(1, 1, 28, 28)\n",
      "(1, 20, 12, 12)\n",
      "(1, 50, 4, 4)\n",
      "(1, 800)\n",
      "(1, 500)\n",
      "(1,)\n",
      "[7]\n"
     ]
    },
    {
     "data": {
      "text/plain": [
       "<matplotlib.image.AxesImage at 0x7ff14b5f8e10>"
      ]
     },
     "execution_count": 7,
     "metadata": {},
     "output_type": "execute_result"
    },
    {
     "data": {
      "image/png": "[encoded data removed]",
      "text/plain": [
       "<matplotlib.figure.Figure at 0x7ff14ed10f50>"
      ]
     },
     "metadata": {},
     "output_type": "display_data"
    }
   ],
   "source": [
    "import six.moves.cPickle as pickle\n",
    "import os\n",
    "import sys\n",
    "import timeit\n",
    "\n",
    "import numpy\n",
    "\n",
    "import theano\n",
    "import theano.tensor as T\n",
    "from theano.tensor.signal import downsample\n",
    "from theano.tensor.nnet import conv2d\n",
    "\n",
    "from logistic_sgd import LogisticRegression, load_data\n",
    "from convolutional_mlp import LeNetConvPoolLayer \n",
    "from mlp import HiddenLayer\n",
    "\n",
    "import mstone\n",
    "\n",
    "\n",
    "layer0 = pickle.load(open('%s/best_model_cnn_l0.pkl'%mstone.theano_path))\n",
    "layer1 = pickle.load(open('%s/best_model_cnn_l1.pkl'%mstone.theano_path))\n",
    "layer2 = pickle.load(open('%s/best_model_cnn_l2.pkl'%mstone.theano_path))\n",
    "layer3 = pickle.load(open('%s/best_model_cnn_l3.pkl'%mstone.theano_path))\n",
    "\n",
    "\n",
    "layer0_model = theano.function(\n",
    "    inputs=[layer0.input],\n",
    "    outputs=layer0.output)\n",
    "\n",
    "layer1_model = theano.function(\n",
    "    inputs=[layer1.input],\n",
    "    outputs=layer1.output)\n",
    "\n",
    "layer2_model = theano.function(\n",
    "    inputs=[layer2.input],\n",
    "    outputs=layer2.output)\n",
    "\n",
    "layer3_model = theano.function(\n",
    "    inputs=[layer3.input],\n",
    "    outputs=layer3.y_pred)\n",
    "\n",
    "\n",
    "dataset='mnist.pkl.gz'\n",
    "datasets = load_data(dataset)\n",
    "test_set_x, test_set_y = datasets[2]\n",
    "test_set_x = test_set_x.get_value()\n",
    "\n",
    "#input_test = test_set_x[10].reshape((1,1,28,28))\n",
    "input_test = test_set_x[210].reshape((1,1,28,28))\n",
    "print input_test.shape\n",
    "#predicted_values = predict_model(test_set_x[:10])\n",
    "#print(predicted_values)\n",
    "data_l0 = layer0_model(input_test)\n",
    "print data_l0.shape\n",
    "data_l1 = layer1_model(data_l0)\n",
    "print data_l1.shape\n",
    "\n",
    "data_l2_in = data_l1.flatten(2)\n",
    "data_l2_in = data_l2_in.reshape(1,800)\n",
    "print data_l2_in.shape\n",
    "#print data_l2_in.shape\n",
    "#data_l2 = layer2_model(data_l1)\n",
    "data_l2 = layer2_model(data_l2_in)\n",
    "print data_l2.shape\n",
    "data_l3 = layer3_model(data_l2)\n",
    "print data_l3.shape\n",
    "print data_l3\n",
    "#print dir(test_set_y.owner.inputs[0].owner.inputs[0])\n",
    "#sy = test_set_y.owner.inputs[0].owner.inputs[0].get_value()\n",
    "pylab.imshow(input_test[0][0])\n",
    "#print sy[210]\n",
    "\n",
    "#print data_l1.shape"
   ]
  },
  {
   "cell_type": "code",
   "execution_count": null,
   "metadata": {
    "collapsed": true
   },
   "outputs": [],
   "source": []
  }
 ],
 "metadata": {
  "kernelspec": {
   "display_name": "Python 2",
   "language": "python",
   "name": "python2"
  },
  "language_info": {
   "codemirror_mode": {
    "name": "ipython",
    "version": 2
   },
   "file_extension": ".py",
   "mimetype": "text/x-python",
   "name": "python",
   "nbconvert_exporter": "python",
   "pygments_lexer": "ipython2",
   "version": "2.7.6"
  }
 },
 "nbformat": 4,
 "nbformat_minor": 0
}
