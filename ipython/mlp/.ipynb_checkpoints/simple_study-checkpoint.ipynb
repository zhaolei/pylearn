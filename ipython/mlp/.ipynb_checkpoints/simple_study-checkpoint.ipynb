{
 "cells": [
  {
   "cell_type": "code",
   "execution_count": null,
   "metadata": {
    "collapsed": true
   },
   "outputs": [],
   "source": [
    "%pylab inline"
   ]
  },
  {
   "cell_type": "code",
   "execution_count": 4,
   "metadata": {
    "collapsed": false
   },
   "outputs": [
    {
     "name": "stdout",
     "output_type": "stream",
     "text": [
      "Output After Training:\n",
      "[[ 0.00966449]\n",
      " [ 0.00786506]\n",
      " [ 0.99358898]\n",
      " [ 0.99211957]]\n",
      "[[ 9.67299303]\n",
      " [-0.2078435 ]\n",
      " [-4.62963669]]\n"
     ]
    }
   ],
   "source": [
    "\n",
    "import numpy as np\n",
    " \n",
    "# sigmoid function\n",
    "def nonlin(x,deriv=False):\n",
    "    if(deriv==True):\n",
    "        return x*(1-x)\n",
    "    return 1/(1+np.exp(-x))\n",
    " \n",
    "# input dataset\n",
    "X = np.array([  [0,0,1],\n",
    "                [0,1,1],\n",
    "                [1,0,1],\n",
    "                [1,1,1] ])\n",
    " \n",
    "# output dataset            \n",
    "y = np.array([[0,0,1,1]]).T\n",
    " \n",
    "# seed random numbers to make calculation\n",
    "# deterministic (just a good practice)\n",
    "np.random.seed(1)\n",
    " \n",
    "# initialize weights randomly with mean 0\n",
    "syn0 = 2*np.random.random((3,1)) - 1\n",
    " \n",
    "for iter in xrange(10000):\n",
    "    # forward propagation\n",
    "    l0 = X\n",
    "    l1 = nonlin(np.dot(l0,syn0))\n",
    " \n",
    "    # how much did we miss?\n",
    "    l1_error = y - l1\n",
    " \n",
    "    # multiply how much we missed by the \n",
    "    # slope of the sigmoid at the values in l1\n",
    "    l1_delta = l1_error * nonlin(l1,True)\n",
    " \n",
    "    # update weights\n",
    "    syn0 += np.dot(l0.T,l1_delta)\n",
    "    #print l1\n",
    "print \"Output After Training:\"\n",
    "print l1\n",
    "print syn0"
   ]
  },
  {
   "cell_type": "code",
   "execution_count": 19,
   "metadata": {
    "collapsed": false
   },
   "outputs": [
    {
     "name": "stdout",
     "output_type": "stream",
     "text": [
      "syn0.shape %d (3, 4)\n",
      "syn1.shape %d (4, 6)\n",
      "X.shape %d (4, 3)\n",
      "Error:0.500726417987\n",
      "syn0 [[-0.16595599  0.44064899 -0.99977125 -0.39533485]\n",
      " [-0.70648822 -0.81532281 -0.62747958 -0.30887855]\n",
      " [-0.20646505  0.07763347 -0.16161097  0.370439  ]]\n",
      "syn1 [[-0.5910955   0.75623487 -0.94522481  0.34093502 -0.1653904   0.11737966]\n",
      " [-0.71922612 -0.60379702  0.60148914  0.93652315 -0.37315164  0.38464523]\n",
      " [ 0.7527783   0.78921333 -0.82991158 -0.92189043 -0.66033916  0.75628501]\n",
      " [-0.80330633 -0.15778475  0.91577906  0.06633057  0.38375423 -0.36896874]]\n",
      "Error:0.00201076882663\n",
      "syn0 [[ 3.07940675  5.28492041 -4.14787595 -1.35669899]\n",
      " [-4.65866222 -4.03199908 -4.18278461 -1.18072938]\n",
      " [-1.32136386  1.76605823  0.96951293  2.10050909]]\n",
      "syn1 [[-0.5667929   1.62485773 -3.80954612  1.95629368  3.68290229 -1.53117869]\n",
      " [-1.42503344 -1.68340706  2.6986763  -1.58651453 -3.49384481  2.04172702]\n",
      " [ 0.41285184 -0.20136926  1.84020132 -2.49244381 -3.44511301  1.85155206]\n",
      " [-0.75574355  0.2887108  -1.32225678  0.94848031  2.94412019 -1.42209665]]\n",
      "[[ 0.15071618  0.26612871  0.84728449  0.12561476  0.10416201  0.82094073]\n",
      " [ 0.34048976  0.51693727  0.33211174  0.61865632  0.84802696  0.30813646]\n",
      " [ 0.08148256  0.48022713  0.19155683  0.66188421  0.82879272  0.44494938]\n",
      " [ 0.15488459  0.19290388  0.87117815  0.25294318  0.11355942  0.7936525 ]]\n",
      "[[ 0.00120246]\n",
      " [ 0.9986249 ]\n",
      " [ 0.99873192]\n",
      " [ 0.00167124]]\n"
     ]
    }
   ],
   "source": [
    "# 三层隐藏层 网络\n",
    "import numpy as np\n",
    " \n",
    "def nonlin(x,deriv=False):\n",
    "    if(deriv==True):\n",
    "        return x*(1-x)\n",
    " \n",
    "    return 1/(1+np.exp(-x))\n",
    " \n",
    "X = np.array([[0,0,1],\n",
    "            [0,1,1],\n",
    "            [1,0,1],\n",
    "            [1,1,1]])\n",
    " \n",
    "y = np.array([[0],\n",
    "            [1],\n",
    "            [1],\n",
    "            [0]])\n",
    " \n",
    "np.random.seed(1)\n",
    " \n",
    "# randomly initialize our weights with mean 0\n",
    "syn0 = 2*np.random.random((3,4)) - 1\n",
    "syn1 = 2*np.random.random((4,6)) - 1\n",
    "syn2 = 2*np.random.random((6,1)) - 1\n",
    " \n",
    "print 'syn0.shape %d' , syn0.shape\n",
    "print 'syn1.shape %d' , syn1.shape\n",
    "\n",
    "print 'X.shape %d' , X.shape\n",
    "\n",
    "for j in xrange(100000):\n",
    " \n",
    "    # Feed forward through layers 0, 1, and 2\n",
    "    l0 = X\n",
    "    l1 = nonlin(np.dot(l0,syn0))\n",
    "    l2 = nonlin(np.dot(l1,syn1))\n",
    "    l3 = nonlin(np.dot(l2,syn2))\n",
    " \n",
    "    # how much did we miss the target value?\n",
    "    #l2_error = y - l2\n",
    "    l3_error = y -  l3\n",
    " \n",
    "    if (j% 50000) == 0:\n",
    "        #print \"Error:\" + str(np.mean(np.abs(l2_error)))\n",
    "        print \"Error:\" + str(np.mean(np.abs(l3_error)))\n",
    "        print 'syn0',syn0\n",
    "        print 'syn1',syn1\n",
    " \n",
    "    # in what direction is the target value?\n",
    "    # were we really sure? if so, don't change too much.\n",
    "    l3_delta = l3_error*nonlin(l3, deriv=True)\n",
    "    \n",
    "    l2_error = l3_delta.dot(syn2.T)\n",
    "    \n",
    "    l2_delta = l2_error*nonlin(l2,deriv=True)\n",
    " \n",
    "    # how much did each l1 value contribute to the l2 error (according to the weights)?\n",
    "    l1_error = l2_delta.dot(syn1.T)\n",
    " \n",
    "    # in what direction is the target l1?\n",
    "    # were we really sure? if so, don't change too much.\n",
    "    l1_delta = l1_error * nonlin(l1,deriv=True)\n",
    " \n",
    "    syn2 += l2.T.dot(l3_delta)\n",
    "    syn1 += l1.T.dot(l2_delta)\n",
    "    syn0 += l0.T.dot(l1_delta)\n",
    "    \n",
    "    \n",
    "print l2\n",
    "print l3"
   ]
  },
  {
   "cell_type": "code",
   "execution_count": null,
   "metadata": {
    "collapsed": true
   },
   "outputs": [],
   "source": []
  }
 ],
 "metadata": {
  "kernelspec": {
   "display_name": "Python 2",
   "language": "python",
   "name": "python2"
  },
  "language_info": {
   "codemirror_mode": {
    "name": "ipython",
    "version": 2
   },
   "file_extension": ".py",
   "mimetype": "text/x-python",
   "name": "python",
   "nbconvert_exporter": "python",
   "pygments_lexer": "ipython2",
   "version": "2.7.6"
  }
 },
 "nbformat": 4,
 "nbformat_minor": 0
}
