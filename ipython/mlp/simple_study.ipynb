{
 "cells": [
  {
   "cell_type": "code",
   "execution_count": null,
   "metadata": {
    "collapsed": true
   },
   "outputs": [],
   "source": [
    "%pylab inline"
   ]
  },
  {
   "cell_type": "code",
   "execution_count": 4,
   "metadata": {
    "collapsed": false
   },
   "outputs": [
    {
     "name": "stdout",
     "output_type": "stream",
     "text": [
      "Output After Training:\n",
      "[[ 0.00966449]\n",
      " [ 0.00786506]\n",
      " [ 0.99358898]\n",
      " [ 0.99211957]]\n",
      "[[ 9.67299303]\n",
      " [-0.2078435 ]\n",
      " [-4.62963669]]\n"
     ]
    }
   ],
   "source": [
    "\n",
    "import numpy as np\n",
    " \n",
    "# sigmoid function\n",
    "def nonlin(x,deriv=False):\n",
    "    if(deriv==True):\n",
    "        return x*(1-x)\n",
    "    return 1/(1+np.exp(-x))\n",
    " \n",
    "# input dataset\n",
    "X = np.array([  [0,0,1],\n",
    "                [0,1,1],\n",
    "                [1,0,1],\n",
    "                [1,1,1] ])\n",
    " \n",
    "# output dataset            \n",
    "y = np.array([[0,0,1,1]]).T\n",
    " \n",
    "# seed random numbers to make calculation\n",
    "# deterministic (just a good practice)\n",
    "np.random.seed(1)\n",
    " \n",
    "# initialize weights randomly with mean 0\n",
    "syn0 = 2*np.random.random((3,1)) - 1\n",
    " \n",
    "for iter in xrange(10000):\n",
    "    # forward propagation\n",
    "    l0 = X\n",
    "    l1 = nonlin(np.dot(l0,syn0))\n",
    " \n",
    "    # how much did we miss?\n",
    "    l1_error = y - l1\n",
    " \n",
    "    # multiply how much we missed by the \n",
    "    # slope of the sigmoid at the values in l1\n",
    "    l1_delta = l1_error * nonlin(l1,True)\n",
    " \n",
    "    # update weights\n",
    "    syn0 += np.dot(l0.T,l1_delta)\n",
    "    #print l1\n",
    "print \"Output After Training:\"\n",
    "print l1\n",
    "print syn0"
   ]
  },
  {
   "cell_type": "code",
   "execution_count": 30,
   "metadata": {
    "collapsed": false
   },
   "outputs": [
    {
     "name": "stdout",
     "output_type": "stream",
     "text": [
      "syn0.shape %d (3, 4)\n",
      "syn1.shape %d (4, 6)\n",
      "X.shape %d (4, 3)\n",
      "Error:0.500726417987\n",
      "[[ 0.15942294  0.28773401  0.82115729  0.14037827  0.12895973  0.80746259]\n",
      " [ 0.3418398   0.49746304  0.38685176  0.58094544  0.81443627  0.34744373]\n",
      " [ 0.08686772  0.45622974  0.23009033  0.62721761  0.79123719  0.49917012]\n",
      " [ 0.16081151  0.20668204  0.84864399  0.28252224  0.14065346  0.77188553]]\n",
      "[[ 0.00425333]\n",
      " [ 0.99495367]\n",
      " [ 0.99536591]\n",
      " [ 0.00605454]]\n"
     ]
    }
   ],
   "source": [
    "# 三层隐藏层 网络\n",
    "import numpy as np\n",
    " \n",
    "def nonlin(x,deriv=False):\n",
    "    if(deriv==True):\n",
    "        return x*(1-x)\n",
    " \n",
    "    return 1/(1+np.exp(-x))\n",
    " \n",
    "X = np.array([[0,0,1],\n",
    "            [0,1,1],\n",
    "            [1,0,1],\n",
    "            [1,1,1]])\n",
    " \n",
    "y = np.array([[0],\n",
    "            [1],\n",
    "            [1],\n",
    "            [0]])\n",
    " \n",
    "np.random.seed(1)\n",
    " \n",
    "# randomly initialize our weights with mean 0\n",
    "syn0 = 2*np.random.random((3,4)) - 1\n",
    "syn1 = 2*np.random.random((4,6)) - 1\n",
    "syn2 = 2*np.random.random((6,1)) - 1\n",
    " \n",
    "print 'syn0.shape %d' , syn0.shape\n",
    "print 'syn1.shape %d' , syn1.shape\n",
    "\n",
    "print 'X.shape %d' , X.shape\n",
    "\n",
    "lview = []\n",
    "for j in xrange(10000):\n",
    " \n",
    "    # Feed forward through layers 0, 1, and 2\n",
    "    l0 = X\n",
    "    l1 = nonlin(np.dot(l0,syn0))\n",
    "    l2 = nonlin(np.dot(l1,syn1))\n",
    "    l3 = nonlin(np.dot(l2,syn2))\n",
    " \n",
    "    # how much did we miss the target value?\n",
    "    #l2_error = y - l2\n",
    "    l3_error = y -  l3\n",
    " \n",
    "    if (j% 50000) == 0:\n",
    "        #print \"Error:\" + str(np.mean(np.abs(l2_error)))\n",
    "        print \"Error:\" + str(np.mean(np.abs(l3_error)))\n",
    "        #print 'syn0',syn0\n",
    "        #print 'syn1',syn1\n",
    "        \n",
    "    if(j%100) == 0:\n",
    "        lview.append(l3_error)\n",
    " \n",
    "    # in what direction is the target value?\n",
    "    # were we really sure? if so, don't change too much.\n",
    "    l3_delta = l3_error*nonlin(l3, deriv=True)\n",
    "    \n",
    "    l2_error = l3_delta.dot(syn2.T)\n",
    "    \n",
    "    l2_delta = l2_error*nonlin(l2,deriv=True)\n",
    " \n",
    "    # how much did each l1 value contribute to the l2 error (according to the weights)?\n",
    "    l1_error = l2_delta.dot(syn1.T)\n",
    " \n",
    "    # in what direction is the target l1?\n",
    "    # were we really sure? if so, don't change too much.\n",
    "    l1_delta = l1_error * nonlin(l1,deriv=True)\n",
    " \n",
    "    syn2 += l2.T.dot(l3_delta)\n",
    "    syn1 += l1.T.dot(l2_delta)\n",
    "    syn0 += l0.T.dot(l1_delta)\n",
    "    \n",
    "    \n",
    "print l2\n",
    "print l3"
   ]
  },
  {
   "cell_type": "code",
   "execution_count": 31,
   "metadata": {
    "collapsed": false
   },
   "outputs": [],
   "source": [
    "lviewx = np.array(lview)"
   ]
  },
  {
   "cell_type": "code",
   "execution_count": 32,
   "metadata": {
    "collapsed": false
   },
   "outputs": [],
   "source": [
    "yx = np.arange(lviewx[:,0].shape[0])"
   ]
  },
  {
   "cell_type": "code",
   "execution_count": 35,
   "metadata": {
    "collapsed": false
   },
   "outputs": [
    {
     "name": "stdout",
     "output_type": "stream",
     "text": [
      "Populating the interactive namespace from numpy and matplotlib\n"
     ]
    },
    {
     "data": {
      "text/plain": [
       "[<matplotlib.lines.Line2D at 0x7f176bc27b10>]"
      ]
     },
     "execution_count": 35,
     "metadata": {},
     "output_type": "execute_result"
    },
    {
     "data": {
      "image/png": "[encoded data removed]",
      "text/plain": [
       "<matplotlib.figure.Figure at 0x7f17700e0f10>"
      ]
     },
     "metadata": {},
     "output_type": "display_data"
    }
   ],
   "source": [
    "%pylab inline\n",
    "pylab.plot(yx, lviewx[:,0])"
   ]
  },
  {
   "cell_type": "code",
   "execution_count": 34,
   "metadata": {
    "collapsed": false
   },
   "outputs": [
    {
     "name": "stdout",
     "output_type": "stream",
     "text": [
      "syn0.shape %d (3, 4)\n",
      "syn1.shape %d (4, 6)\n",
      "X.shape %d (4, 3)\n",
      "Error:0.500726417987\n",
      "Error:0.412160293159\n",
      "Error:0.0304544930762\n",
      "Error:0.0190559237339\n",
      "Error:0.0147441599666\n",
      "Error:0.0123592517732\n",
      "Error:0.0108060794243\n",
      "Error:0.00969686927087\n",
      "Error:0.00885617961493\n",
      "Error:0.00819194309523\n",
      "Error:0.00765073738374\n",
      "Error:0.00719921871208\n",
      "Error:0.00681538816119\n",
      "Error:0.00648408362619\n",
      "Error:0.00619447940897\n",
      "Error:0.00593861727497\n",
      "Error:0.00571050186659\n",
      "Error:0.00550552131569\n",
      "Error:0.00532006356439\n",
      "Error:0.00515125490264\n",
      "[[ 0.15942294  0.28773401  0.82115729  0.14037827  0.12895973  0.80746259]\n",
      " [ 0.3418398   0.49746304  0.38685176  0.58094544  0.81443627  0.34744373]\n",
      " [ 0.08686772  0.45622974  0.23009033  0.62721761  0.79123719  0.49917012]\n",
      " [ 0.16081151  0.20668204  0.84864399  0.28252224  0.14065346  0.77188553]]\n",
      "[[ 0.00425333]\n",
      " [ 0.99495367]\n",
      " [ 0.99536591]\n",
      " [ 0.00605454]]\n"
     ]
    }
   ],
   "source": [
    "# 三层隐藏层 网络\n",
    "import numpy as np\n",
    " \n",
    "def nonlin(x,deriv=False):\n",
    "    if(deriv==True):\n",
    "        return x*(1-x)\n",
    " \n",
    "    return 1/(1+np.exp(-x))\n",
    " \n",
    "X = np.array([[0,0,1],\n",
    "            [0,1,1],\n",
    "            [1,0,1],\n",
    "            [1,1,1]])\n",
    " \n",
    "y = np.array([[0],\n",
    "            [1],\n",
    "            [1],\n",
    "            [0]])\n",
    " \n",
    "np.random.seed(1)\n",
    " \n",
    "# randomly initialize our weights with mean 0\n",
    "syn0 = 2*np.random.random((3,4)) - 1\n",
    "syn1 = 2*np.random.random((4,6)) - 1\n",
    "syn2 = 2*np.random.random((6,1)) - 1\n",
    " \n",
    "print 'syn0.shape %d' , syn0.shape\n",
    "print 'syn1.shape %d' , syn1.shape\n",
    "\n",
    "print 'X.shape %d' , X.shape\n",
    "\n",
    "lview = []\n",
    "for j in xrange(10000):\n",
    " \n",
    "    # Feed forward through layers 0, 1, and 2\n",
    "    l0 = X\n",
    "    l1 = nonlin(np.dot(l0,syn0))\n",
    "    l2 = nonlin(np.dot(l1,syn1))\n",
    "    l3 = nonlin(np.dot(l2,syn2))\n",
    " \n",
    "    # how much did we miss the target value?\n",
    "    #l2_error = y - l2\n",
    "    l3_error = y -  l3\n",
    " \n",
    "    if (j% 500) == 0:\n",
    "        #print \"Error:\" + str(np.mean(np.abs(l2_error)))\n",
    "        print \"Error:\" + str(np.mean(np.abs(l3_error)))\n",
    "        #print 'syn0',syn0\n",
    "        #print 'syn1',syn1\n",
    "        \n",
    "    if(j%100) == 0:\n",
    "        lview.append(l3_error)\n",
    " \n",
    "    # in what direction is the target value?\n",
    "    # were we really sure? if so, don't change too much.\n",
    "    l3_delta = l3_error*nonlin(l3, deriv=True)\n",
    "    \n",
    "    l2_error = l3_delta.dot(syn2.T)\n",
    "    \n",
    "    l2_delta = l2_error*nonlin(l2,deriv=True)\n",
    " \n",
    "    # how much did each l1 value contribute to the l2 error (according to the weights)?\n",
    "    l1_error = l2_delta.dot(syn1.T)\n",
    " \n",
    "    # in what direction is the target l1?\n",
    "    # were we really sure? if so, don't change too much.\n",
    "    l1_delta = l1_error * nonlin(l1,deriv=True)\n",
    " \n",
    "    syn2 += l2.T.dot(l3_delta)\n",
    "    syn1 += l1.T.dot(l2_delta)\n",
    "    syn0 += l0.T.dot(l1_delta)\n",
    "    \n",
    "    \n",
    "print l2\n",
    "print l3"
   ]
  },
  {
   "cell_type": "code",
   "execution_count": 37,
   "metadata": {
    "collapsed": false
   },
   "outputs": [
    {
     "data": {
      "text/plain": [
       "[<matplotlib.lines.Line2D at 0x7f176bc69410>]"
      ]
     },
     "execution_count": 37,
     "metadata": {},
     "output_type": "execute_result"
    },
    {
     "data": {
      "image/png": "[encoded data removed]",
      "text/plain": [
       "<matplotlib.figure.Figure at 0x7f176bb169d0>"
      ]
     },
     "metadata": {},
     "output_type": "display_data"
    }
   ],
   "source": [
    "pylab.plot(yx, lviewx[:,0],label='lview(1)')"
   ]
  },
  {
   "cell_type": "code",
   "execution_count": null,
   "metadata": {
    "collapsed": true
   },
   "outputs": [],
   "source": []
  }
 ],
 "metadata": {
  "kernelspec": {
   "display_name": "Python 2",
   "language": "python",
   "name": "python2"
  },
  "language_info": {
   "codemirror_mode": {
    "name": "ipython",
    "version": 2
   },
   "file_extension": ".py",
   "mimetype": "text/x-python",
   "name": "python",
   "nbconvert_exporter": "python",
   "pygments_lexer": "ipython2",
   "version": "2.7.6"
  }
 },
 "nbformat": 4,
 "nbformat_minor": 0
}
